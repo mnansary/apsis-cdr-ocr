{
 "cells": [
  {
   "cell_type": "code",
   "execution_count": 7,
   "id": "0157a12a",
   "metadata": {},
   "outputs": [
    {
     "ename": "KeyError",
     "evalue": "'w'",
     "output_type": "error",
     "traceback": [
      "\u001b[0;31m---------------------------------------------------------------------------\u001b[0m",
      "\u001b[0;31mKeyError\u001b[0m                                  Traceback (most recent call last)",
      "\u001b[0;32m<ipython-input-7-a179b05b5e3c>\u001b[0m in \u001b[0;36m<module>\u001b[0;34m\u001b[0m\n\u001b[1;32m     16\u001b[0m     \u001b[0mxmin\u001b[0m\u001b[0;34m=\u001b[0m\u001b[0m_d\u001b[0m\u001b[0;34m[\u001b[0m\u001b[0;34m'shape_attributes'\u001b[0m\u001b[0;34m]\u001b[0m\u001b[0;34m[\u001b[0m\u001b[0;34m'x'\u001b[0m\u001b[0;34m]\u001b[0m\u001b[0;34m\u001b[0m\u001b[0;34m\u001b[0m\u001b[0m\n\u001b[1;32m     17\u001b[0m     \u001b[0mymin\u001b[0m\u001b[0;34m=\u001b[0m\u001b[0m_d\u001b[0m\u001b[0;34m[\u001b[0m\u001b[0;34m'shape_attributes'\u001b[0m\u001b[0;34m]\u001b[0m\u001b[0;34m[\u001b[0m\u001b[0;34m'y'\u001b[0m\u001b[0;34m]\u001b[0m\u001b[0;34m\u001b[0m\u001b[0;34m\u001b[0m\u001b[0m\n\u001b[0;32m---> 18\u001b[0;31m     \u001b[0mxmax\u001b[0m\u001b[0;34m=\u001b[0m\u001b[0m_d\u001b[0m\u001b[0;34m[\u001b[0m\u001b[0;34m'shape_attributes'\u001b[0m\u001b[0;34m]\u001b[0m\u001b[0;34m[\u001b[0m\u001b[0;34m'w'\u001b[0m\u001b[0;34m]\u001b[0m\u001b[0;34m+\u001b[0m\u001b[0mxmin\u001b[0m\u001b[0;34m\u001b[0m\u001b[0;34m\u001b[0m\u001b[0m\n\u001b[0m\u001b[1;32m     19\u001b[0m     \u001b[0mymax\u001b[0m\u001b[0;34m=\u001b[0m\u001b[0m_d\u001b[0m\u001b[0;34m[\u001b[0m\u001b[0;34m'shape_attributes'\u001b[0m\u001b[0;34m]\u001b[0m\u001b[0;34m[\u001b[0m\u001b[0;34m'h'\u001b[0m\u001b[0;34m]\u001b[0m\u001b[0;34m+\u001b[0m\u001b[0mymin\u001b[0m\u001b[0;34m\u001b[0m\u001b[0;34m\u001b[0m\u001b[0m\n\u001b[1;32m     20\u001b[0m     \u001b[0mfield\u001b[0m\u001b[0;34m=\u001b[0m\u001b[0m_d\u001b[0m\u001b[0;34m[\u001b[0m\u001b[0;34m'region_attributes'\u001b[0m\u001b[0;34m]\u001b[0m\u001b[0;34m[\u001b[0m\u001b[0;34m'name'\u001b[0m\u001b[0;34m]\u001b[0m\u001b[0;34m\u001b[0m\u001b[0;34m\u001b[0m\u001b[0m\n",
      "\u001b[0;31mKeyError\u001b[0m: 'w'"
     ]
    }
   ],
   "source": [
    "import cv2\n",
    "import numpy as np\n",
    "import pandas as pd\n",
    "import os\n",
    "from glob import glob\n",
    "from tqdm.auto import tqdm\n",
    "tqdm.pandas()\n",
    "import json\n",
    "template_path=\"iamge.png\"\n",
    "tem=cv2.imread(template_path)\n",
    "\n",
    "f = open('tem.json')\n",
    "temdata = json.load(f)\n",
    "loc_dict={}\n",
    "for _d in temdata['image.png926838'][\"regions\"]:\n",
    "    xmin=_d['shape_attributes']['x']\n",
    "    ymin=_d['shape_attributes']['y']\n",
    "    xmax=_d['shape_attributes']['w']+xmin\n",
    "    ymax=_d['shape_attributes']['h']+ymin\n",
    "    field=_d['region_attributes']['name']\n",
    "    loc_dict[field]=[xmin,ymin,xmax,ymax]\n",
    "loc_dict\n",
    "        "
   ]
  },
  {
   "cell_type": "code",
   "execution_count": 5,
   "id": "655dfd86",
   "metadata": {},
   "outputs": [
    {
     "data": {
      "text/plain": [
       "dict_keys(['image.png926838'])"
      ]
     },
     "execution_count": 5,
     "metadata": {},
     "output_type": "execute_result"
    }
   ],
   "source": [
    "temdata.keys()"
   ]
  },
  {
   "cell_type": "code",
   "execution_count": null,
   "id": "bb6fde74",
   "metadata": {},
   "outputs": [],
   "source": []
  }
 ],
 "metadata": {
  "kernelspec": {
   "display_name": "bangla",
   "language": "python",
   "name": "bangla"
  },
  "language_info": {
   "codemirror_mode": {
    "name": "ipython",
    "version": 3
   },
   "file_extension": ".py",
   "mimetype": "text/x-python",
   "name": "python",
   "nbconvert_exporter": "python",
   "pygments_lexer": "ipython3",
   "version": "3.8.5"
  }
 },
 "nbformat": 4,
 "nbformat_minor": 5
}
